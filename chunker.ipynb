{
  "nbformat": 4,
  "nbformat_minor": 0,
  "metadata": {
    "colab": {
      "provenance": []
    },
    "kernelspec": {
      "name": "python3",
      "display_name": "Python 3"
    },
    "language_info": {
      "name": "python"
    }
  },
  "cells": [
    {
      "cell_type": "code",
      "source": [
        "# create batches and chunks\n",
        "import numpy as np\n",
        "\n",
        "example_dict = dict([(f'bwv{n:04d}', np.random.rand(1, 512*m, 12)) for n, m in zip(range(5), [3,4,1,5])])\n",
        "\n",
        "class Chunker():\n",
        "  def __init__(self, songs_dict, n_batches, chunk_size):\n",
        "    self.n_batches = n_batches\n",
        "    self.songs_dict = songs_dict\n",
        "    self.chunk_size = chunk_size\n",
        "    self.song_list = ['' for _ in range(n_batches)]\n",
        "    self.t0  = [0 for _ in range(n_batches)]\n",
        "    self.t1  = [chunk_size for _ in range(n_batches)]\n",
        "\n",
        "  def chunker(self):\n",
        "    # Output initialization\n",
        "    output = np.zeros((self.n_batches, self.chunk_size, 12), dtype=float)\n",
        "    # 1. for item n in song_list if item == '' randomly choose one key of songs_dict and set t0[n] = 0\n",
        "    for n in range(self.n_batches):\n",
        "      if self.song_list[n] == '':\n",
        "        self.song_list[n] = np.random.choice(list(self.songs_dict.keys()))\n",
        "        self.t0[n] = 0\n",
        "\n",
        "      current_song = self.songs_dict[self.song_list[n]]\n",
        "      song_len = current_song.shape[1]\n",
        "\n",
        "    # 2. for n in batches: output[n, : :] = songs_dict[self.songs_list[n]][0, t0[n]:t0[n]+chunk_size, :]\n",
        "    for n in range(self.n_batches):\n",
        "      output[n, :, :] = self.songs_dict[self.song_list[n]][0, self.t0[n]:self.t0[n] + self.chunk_size, :]\n",
        "\n",
        "    # 3. You adjust t0[n] += chunk_size+\n",
        "      self.t0[n] += self.chunk_size\n",
        "    # 4. if t0[n] > song_size set self.song_list[n] = ''\n",
        "      if self.t0[n] > song_len:\n",
        "          self.song_list[n]=''\n",
        "\n"
      ],
      "metadata": {
        "id": "cCFDd4NVHxBc"
      },
      "execution_count": null,
      "outputs": []
    },
    {
      "cell_type": "code",
      "source": [
        "chunker = Chunker(example_dict, 10, 512)\n",
        "\n",
        "chunker.chunker()"
      ],
      "metadata": {
        "id": "guhelgzDM4Xx"
      },
      "execution_count": null,
      "outputs": []
    }
  ]
}