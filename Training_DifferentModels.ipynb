{
  "cells": [
    {
      "cell_type": "code",
      "source": [
        "!pip install mido"
      ],
      "metadata": {
        "colab": {
          "base_uri": "https://localhost:8080/"
        },
        "id": "e17QQioD-rGS",
        "outputId": "7673a0c3-fe2a-4b79-a5da-6441a193f8f7"
      },
      "execution_count": 1,
      "outputs": [
        {
          "output_type": "stream",
          "name": "stdout",
          "text": [
            "Collecting mido\n",
            "  Downloading mido-1.3.3-py3-none-any.whl.metadata (6.4 kB)\n",
            "Requirement already satisfied: packaging in /usr/local/lib/python3.10/dist-packages (from mido) (24.2)\n",
            "Downloading mido-1.3.3-py3-none-any.whl (54 kB)\n",
            "\u001b[?25l   \u001b[90m━━━━━━━━━━━━━━━━━━━━━━━━━━━━━━━━━━━━━━━━\u001b[0m \u001b[32m0.0/54.6 kB\u001b[0m \u001b[31m?\u001b[0m eta \u001b[36m-:--:--\u001b[0m\r\u001b[2K   \u001b[90m━━━━━━━━━━━━━━━━━━━━━━━━━━━━━━━━━━━━━━━━\u001b[0m \u001b[32m54.6/54.6 kB\u001b[0m \u001b[31m2.1 MB/s\u001b[0m eta \u001b[36m0:00:00\u001b[0m\n",
            "\u001b[?25hInstalling collected packages: mido\n",
            "Successfully installed mido-1.3.3\n"
          ]
        }
      ]
    },
    {
      "cell_type": "code",
      "execution_count": 2,
      "metadata": {
        "id": "TyOnEfEdMIqH"
      },
      "outputs": [],
      "source": [
        "# Imports\n",
        "\n",
        "import os\n",
        "import csv\n",
        "import glob\n",
        "import mido\n",
        "import numpy as np\n",
        "import torch\n",
        "import torch.nn as nn\n",
        "import torch.optim as optim\n",
        "from torch.utils.data import DataLoader\n",
        "from tqdm import tqdm"
      ]
    },
    {
      "cell_type": "code",
      "source": [
        "def generate_target_array(targets, chunk_size, chromatic=True):\n",
        "\n",
        "\tif chromatic:\n",
        "\t\tn_midi_notes = 12\n",
        "\telse:\n",
        "\t\tn_midi_notes   = 108\n",
        "\n",
        "\tsong_len = int(chunk_size * np.ceil(len(targets)/chunk_size))\n",
        "\ttarget_array = np.zeros((song_len, n_midi_notes))\n",
        "\n",
        "\tfor tick, target_chord in enumerate(targets):\n",
        "\t\tfor target_note in [int(note)-1 for note in target_chord if note != '']:\n",
        "\t\t\tnote = target_note % 12 if chromatic else target_note\n",
        "\t\t\ttarget_array[tick, note] = 1\n",
        "\n",
        "\treturn target_array\n",
        "\n",
        "\n",
        "def add_noise_to_target(target_array, noise=0.5):\n",
        "\n",
        "\tsample_array = target_array + 0.5 * np.random.randn(*target_array.shape)\n",
        "\n",
        "\treturn(sample_array)\n",
        "\n",
        "\n",
        "def get_songs(songs_path, chunk_size, chromatic=True, noise=0.5):\n",
        "\n",
        "\tn_pad_song_end = 20\n",
        "\n",
        "\tfiles = dict()\n",
        "\tfor filepath in glob.glob(os.path.join(songs_path, '*.csv')):\n",
        "\t\tfile = os.path.split(filepath)[-1]\n",
        "\t\tif '_' in file:\n",
        "\t\t\topera = file.split('_')[0]\n",
        "\t\telse:\n",
        "\t\t\topera = file.replace('.csv', '')\n",
        "\t\tfiles[opera] = glob.glob(os.path.join(songs_path, f'{opera}*.csv'))\n",
        "\n",
        "\tsongs_dict = dict()\n",
        "\tfor opera in files:\n",
        "\t\tsongs_dict[opera] = dict()\n",
        "\t\ttargets = []\n",
        "\t\tfor file in files[opera]:\n",
        "\t\t\twith open(file, 'r') as f:\n",
        "\t\t\t\ttargets += [el for el in list(csv.reader(f)) if el != []]\n",
        "\t\t\t\ttargets += [[]] * n_pad_song_end\n",
        "\n",
        "\t\ttarget_array = generate_target_array(targets, chunk_size, chromatic)\n",
        "\t\tsample_array = add_noise_to_target(target_array, noise)\n",
        "\t\tsongs_dict[opera]['target'] = target_array\n",
        "\t\tsongs_dict[opera]['sample'] = sample_array\n",
        "\n",
        "\treturn songs_dict\n",
        "\n",
        "\n",
        "class Chunker():\n",
        "\n",
        "\tdef __init__(self, songs_path, batch_size, chunk_size, chromatic=True, noise=0.5):\n",
        "\t\tself.batch_size = batch_size\n",
        "\t\tself.songs_dict = get_songs(songs_path, chunk_size, chromatic, noise)\n",
        "\t\tself.chunk_size = chunk_size\n",
        "\t\tself.song_pool  = list(self.songs_dict.keys())\n",
        "\t\tself.song_list = [np.random.choice(self.song_pool) for _ in range(batch_size)]\n",
        "\t\tself.t0  = [0 for _ in range(batch_size)]\n",
        "\n",
        "\tdef create_chunck(self):\n",
        "\t\tn_dims = self.songs_dict[self.song_pool[0]]['target'].shape[1]\n",
        "\t\ttarget = np.zeros((self.batch_size, self.chunk_size, n_dims))\n",
        "\t\tsample = np.zeros((self.batch_size, self.chunk_size, n_dims))\n",
        "\n",
        "\t\tfor n in range(self.batch_size):\n",
        "\t\t\tt0, t1 = self.t0[n], self.t0[n] + self.chunk_size\n",
        "\t\t\ttarget[n, :, :] = self.songs_dict[self.song_list[n]]['target'][t0:t1]\n",
        "\t\t\tsample[n, :, :] = self.songs_dict[self.song_list[n]]['sample'][t0:t1]\n",
        "\t\t\tif t1 > self.songs_dict[self.song_list[n]]['target'].shape[1]-self.chunk_size:\n",
        "\t\t\t\tself.song_list[n] = np.random.choice(self.song_pool)\n",
        "\t\t\t\tself.t0[n] = 0\n",
        "\t\t\telse:\n",
        "\t\t\t\tself.t0[n] += self.chunk_size\n",
        "\n",
        "\t\treturn target, sample\n",
        "\n",
        "\n",
        "chunk_size = 512\n",
        "batch_size = 16\n",
        "chromatic  = True\n",
        "noise = 0.5\n",
        "\n",
        "chunker = Chunker('./train', chunk_size, batch_size, chromatic, noise)\n",
        "target, sample = chunker.create_chunck()\n",
        "print(target.shape)\n",
        "print(sample.shape)"
      ],
      "metadata": {
        "colab": {
          "base_uri": "https://localhost:8080/"
        },
        "id": "zBJQEBbZ-dvm",
        "outputId": "2caac8dc-c593-4f18-9c2e-f50cfa351dcf"
      },
      "execution_count": 3,
      "outputs": [
        {
          "output_type": "stream",
          "name": "stdout",
          "text": [
            "(512, 16, 12)\n",
            "(512, 16, 12)\n"
          ]
        }
      ]
    },
    {
      "cell_type": "code",
      "execution_count": 4,
      "metadata": {
        "id": "BensSGQOMDg0"
      },
      "outputs": [],
      "source": [
        "# Save the model weights in this directory\n",
        "weight_dir = \"model_wts\"\n",
        "\n",
        "if not os.path.exists(weight_dir):\n",
        "  os.mkdir(weight_dir)"
      ]
    },
    {
      "cell_type": "code",
      "execution_count": 16,
      "metadata": {
        "id": "4kJfcaHgQnfJ"
      },
      "outputs": [],
      "source": [
        "# Functions to generate the sample from the CSV file\n",
        "chunk_size = 512\n",
        "batch_size = 16\n",
        "chromatic  = True\n",
        "noise = 0.5\n",
        "num_chunks = 1000\n",
        "\n",
        "chunker = Chunker('./train', chunk_size, batch_size, chromatic, noise)"
      ]
    },
    {
      "cell_type": "code",
      "execution_count": 17,
      "metadata": {
        "id": "jQxoYLsQ-bNO"
      },
      "outputs": [],
      "source": [
        "# Generate and concatenate chunks\n",
        "targets = []\n",
        "samples = []\n",
        "\n",
        "for _ in range(num_chunks):\n",
        "    target, sample = chunker.create_chunck()\n",
        "    targets.append(torch.tensor(target, dtype=torch.float32))\n",
        "    samples.append(torch.tensor(sample, dtype=torch.float32))\n",
        "\n",
        "# Concatenate all targets and samples\n",
        "targets_tensor = torch.cat(targets)\n",
        "samples_tensor = torch.cat(samples)\n"
      ]
    },
    {
      "cell_type": "code",
      "execution_count": 18,
      "metadata": {
        "id": "_WqW3hzM-bNP"
      },
      "outputs": [],
      "source": [
        "from torch.utils.data import Dataset, DataLoader\n",
        "\n",
        "class ChunkTensorDataset(Dataset):\n",
        "    def __init__(self, targets_tensor, samples_tensor):\n",
        "        self.targets_tensor = targets_tensor\n",
        "        self.samples_tensor = samples_tensor\n",
        "\n",
        "    def __len__(self):\n",
        "        return len(self.targets_tensor)\n",
        "\n",
        "    def __getitem__(self, idx):\n",
        "        return self.targets_tensor[idx], self.samples_tensor[idx]\n",
        "\n",
        "# Create Dataset and DataLoader\n",
        "dataset = ChunkTensorDataset(targets_tensor, samples_tensor)\n",
        "train_dataloader = DataLoader(dataset, batch_size=batch_size, shuffle=True)\n"
      ]
    },
    {
      "cell_type": "code",
      "execution_count": 14,
      "metadata": {
        "id": "CTdnmdhrMZ0P"
      },
      "outputs": [],
      "source": [
        "# Hyperparameters\n",
        "input_size = 12\n",
        "num_layers = 2\n",
        "hidden_size = 64\n",
        "learning_rate = 0.001\n",
        "num_epochs = 2\n",
        "\n",
        "device = torch.device('cuda' if torch.cuda.is_available() else 'cpu')"
      ]
    },
    {
      "cell_type": "code",
      "execution_count": 19,
      "metadata": {
        "colab": {
          "base_uri": "https://localhost:8080/"
        },
        "id": "VMrMVWm1QXrm",
        "outputId": "dd3f695e-efc0-466b-df89-fbc4314e9b90"
      },
      "outputs": [
        {
          "output_type": "stream",
          "name": "stderr",
          "text": [
            "100%|██████████| 32000/32000 [03:20<00:00, 159.76it/s]\n"
          ]
        },
        {
          "output_type": "stream",
          "name": "stdout",
          "text": [
            "Epoch [1/2], Loss: 0.008837007218610372\n"
          ]
        },
        {
          "output_type": "stream",
          "name": "stderr",
          "text": [
            "100%|██████████| 32000/32000 [03:20<00:00, 159.49it/s]"
          ]
        },
        {
          "output_type": "stream",
          "name": "stdout",
          "text": [
            "Epoch [2/2], Loss: 6.000567968694243e-05\n",
            "Simple RNN weights saved to <built-in function dir>\n"
          ]
        },
        {
          "output_type": "stream",
          "name": "stderr",
          "text": [
            "\n"
          ]
        }
      ],
      "source": [
        "class SimpleRNN(nn.Module):\n",
        "    def __init__(self, input_size, num_layers, hidden_size):\n",
        "        super(SimpleRNN, self).__init__()\n",
        "        self.input_size = input_size\n",
        "        self.num_layers = num_layers\n",
        "        self.hidden_size = hidden_size\n",
        "\n",
        "        self.rnn = nn.RNN(input_size, hidden_size, num_layers, batch_first=True)\n",
        "        self.fc1 = nn.Linear(hidden_size, input_size)\n",
        "        self.sig = nn.Sigmoid()\n",
        "\n",
        "    def forward(self, x, hidden=None):\n",
        "        if hidden is None:\n",
        "          batch_size = x.size(0)\n",
        "          hidden = torch.zeros(self.num_layers, batch_size, self.hidden_size).to(device)\n",
        "\n",
        "        out, hidden = self.rnn(x, hidden)\n",
        "        out = self.fc1(out)\n",
        "        out = self.sig(out)\n",
        "        return out, hidden\n",
        "\n",
        "model = SimpleRNN(input_size, num_layers, hidden_size).to(device=device)\n",
        "\n",
        "# Loss and optimizer\n",
        "criterion  = nn.BCELoss()\n",
        "optimizer = optim.Adam(model.parameters(), lr=learning_rate)\n",
        "\n",
        "for epoch in range(num_epochs):\n",
        "    epoch_loss = 0\n",
        "    for ground_truth, input_data in tqdm(train_dataloader):\n",
        "        ground_truth = ground_truth.to(device=device)\n",
        "        input_data = input_data.to(device=device)\n",
        "\n",
        "        output, hidden = model(input_data)\n",
        "        loss = criterion(output, ground_truth)\n",
        "        current_loss = loss\n",
        "\n",
        "        # Learning\n",
        "        optimizer.zero_grad()\n",
        "        loss.backward()\n",
        "        optimizer.step()\n",
        "\n",
        "        epoch_loss += loss.item()\n",
        "\n",
        "    print(f\"Epoch [{epoch+1}/{num_epochs}], Loss: {epoch_loss / len(train_dataloader)}\")\n",
        "\n",
        "\n",
        "# Save the weights\n",
        "weights_file = os.path.join(weight_dir, 'SimpleRNNweights.pth')\n",
        "torch.save(model.state_dict(), weights_file)\n",
        "print(f\"Simple RNN weights saved to {dir}\")"
      ]
    },
    {
      "cell_type": "code",
      "execution_count": 20,
      "metadata": {
        "colab": {
          "base_uri": "https://localhost:8080/"
        },
        "id": "43Ysd6veD414",
        "outputId": "ae787371-eb98-423b-ac41-c632248bef6e"
      },
      "outputs": [
        {
          "output_type": "stream",
          "name": "stderr",
          "text": [
            "100%|██████████| 32000/32000 [04:53<00:00, 108.91it/s]\n"
          ]
        },
        {
          "output_type": "stream",
          "name": "stdout",
          "text": [
            "Epoch [1/2], Loss: 0.016277532574986486\n"
          ]
        },
        {
          "output_type": "stream",
          "name": "stderr",
          "text": [
            "100%|██████████| 32000/32000 [04:53<00:00, 109.11it/s]"
          ]
        },
        {
          "output_type": "stream",
          "name": "stdout",
          "text": [
            "Epoch [2/2], Loss: 4.500220838267782e-05\n",
            "LSTM Model weights saved to <built-in function dir>\n"
          ]
        },
        {
          "output_type": "stream",
          "name": "stderr",
          "text": [
            "\n"
          ]
        }
      ],
      "source": [
        "class SimpleLSTM(nn.Module):\n",
        "    def __init__(self, input_size, num_layers, hidden_size):\n",
        "        super(SimpleLSTM, self).__init__()\n",
        "        self.input_size = input_size\n",
        "        self.num_layers = num_layers\n",
        "        self.hidden_size = hidden_size\n",
        "\n",
        "        self.lstm = nn.LSTM(input_size, hidden_size, num_layers, batch_first=True)\n",
        "        self.fc1 = nn.Linear(hidden_size, input_size)\n",
        "        self.sig = nn.Sigmoid()\n",
        "\n",
        "    def forward(self, x, hidden=None):\n",
        "        if hidden is None:\n",
        "          batch_size = x.size(0)\n",
        "          hidden = torch.zeros(self.num_layers, batch_size, self.hidden_size).to(device)\n",
        "          c0 = torch.zeros(self.num_layers, batch_size, self.hidden_size).to(device)\n",
        "\n",
        "        out, hidden = self.lstm(x, (hidden, c0))\n",
        "        out = self.fc1(out)\n",
        "        out = self.sig(out)\n",
        "        return out, hidden\n",
        "\n",
        "model = SimpleLSTM(input_size, num_layers, hidden_size).to(device=device)\n",
        "\n",
        "# Loss and optimizer\n",
        "criterion  = nn.BCELoss()\n",
        "optimizer = optim.Adam(model.parameters(), lr=learning_rate)\n",
        "\n",
        "for epoch in range(num_epochs):\n",
        "    epoch_loss = 0\n",
        "    for ground_truth, input_data in tqdm(train_dataloader):\n",
        "        ground_truth = ground_truth.to(device=device)\n",
        "        input_data = input_data.to(device=device)\n",
        "\n",
        "        output, hidden = model(input_data)\n",
        "        loss = criterion(output, ground_truth)\n",
        "        current_loss = loss\n",
        "\n",
        "        # Learning\n",
        "        optimizer.zero_grad()\n",
        "        loss.backward()\n",
        "        optimizer.step()\n",
        "\n",
        "        epoch_loss += loss.item()\n",
        "\n",
        "    print(f\"Epoch [{epoch+1}/{num_epochs}], Loss: {epoch_loss / len(train_dataloader)}\")\n",
        "\n",
        "# Save the weights\n",
        "weights_file = os.path.join(weight_dir, 'LSTMweights.pth')\n",
        "torch.save(model.state_dict(), weights_file)\n",
        "print(f\"LSTM Model weights saved to {dir}\")"
      ]
    },
    {
      "cell_type": "code",
      "source": [
        "class GRUModel(nn.Module):\n",
        "    def __init__(self, input_size, num_layers, hidden_size):\n",
        "        super(GRUModel, self).__init__()\n",
        "        self.input_size = input_size\n",
        "        self.num_layers = num_layers\n",
        "        self.hidden_size = hidden_size\n",
        "\n",
        "        self.gru = nn.GRU(input_size, hidden_size, num_layers, batch_first=True)\n",
        "        self.fc1 = nn.Linear(hidden_size, input_size)\n",
        "        self.sig = nn.Sigmoid()\n",
        "\n",
        "    def forward(self, x, hidden=None):\n",
        "        if hidden is None:\n",
        "            batch_size = x.size(0)\n",
        "            hidden = torch.zeros(self.num_layers, batch_size, self.hidden_size).to(device)\n",
        "\n",
        "        out, hidden = self.gru(x, hidden)\n",
        "        out = self.fc1(out)\n",
        "        out = self.sig(out)\n",
        "        return out, hidden\n",
        "\n",
        "model = GRUModel(input_size, num_layers, hidden_size).to(device=device)\n",
        "\n",
        "\n",
        "# Loss and optimizer\n",
        "criterion  = nn.BCELoss()\n",
        "optimizer = optim.Adam(model.parameters(), lr=learning_rate)\n",
        "\n",
        "for epoch in range(num_epochs):\n",
        "    epoch_loss = 0\n",
        "    for ground_truth, input_data in tqdm(train_dataloader):\n",
        "        ground_truth = ground_truth.to(device=device)\n",
        "        input_data = input_data.to(device=device)\n",
        "\n",
        "        output, hidden = model(input_data)\n",
        "        loss = criterion(output, ground_truth)\n",
        "        current_loss = loss\n",
        "\n",
        "        # Learning\n",
        "        optimizer.zero_grad()\n",
        "        loss.backward()\n",
        "        optimizer.step()\n",
        "\n",
        "        epoch_loss += loss.item()\n",
        "\n",
        "    print(f\"Epoch [{epoch+1}/{num_epochs}], Loss: {epoch_loss / len(train_dataloader)}\")\n",
        "\n",
        "\n",
        "# Save the weights\n",
        "weights_file = os.path.join(weight_dir, 'GRUweights.pth')\n",
        "torch.save(model.state_dict(), weights_file)\n",
        "print(f\"GRU Model weights saved to {dir}\")"
      ],
      "metadata": {
        "colab": {
          "base_uri": "https://localhost:8080/"
        },
        "id": "V_1Vd2-kR8Tw",
        "outputId": "f1b31050-22dc-4d88-ed98-7528e1d4b963"
      },
      "execution_count": 21,
      "outputs": [
        {
          "output_type": "stream",
          "name": "stderr",
          "text": [
            "100%|██████████| 32000/32000 [06:54<00:00, 77.29it/s]\n"
          ]
        },
        {
          "output_type": "stream",
          "name": "stdout",
          "text": [
            "Epoch [1/2], Loss: 0.008077771728630728\n"
          ]
        },
        {
          "output_type": "stream",
          "name": "stderr",
          "text": [
            "100%|██████████| 32000/32000 [06:50<00:00, 77.93it/s]"
          ]
        },
        {
          "output_type": "stream",
          "name": "stdout",
          "text": [
            "Epoch [2/2], Loss: 2.6649561561070332e-08\n",
            "GRU Model weights saved to <built-in function dir>\n"
          ]
        },
        {
          "output_type": "stream",
          "name": "stderr",
          "text": [
            "\n"
          ]
        }
      ]
    }
  ],
  "metadata": {
    "colab": {
      "provenance": [],
      "machine_shape": "hm",
      "gpuType": "V28"
    },
    "kernelspec": {
      "display_name": "Python 3",
      "name": "python3"
    },
    "language_info": {
      "codemirror_mode": {
        "name": "ipython",
        "version": 3
      },
      "file_extension": ".py",
      "mimetype": "text/x-python",
      "name": "python",
      "nbconvert_exporter": "python",
      "pygments_lexer": "ipython3",
      "version": "3.8.13"
    },
    "accelerator": "TPU"
  },
  "nbformat": 4,
  "nbformat_minor": 0
}